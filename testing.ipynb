{
 "cells": [
  {
   "cell_type": "code",
   "execution_count": 120,
   "metadata": {},
   "outputs": [],
   "source": [
    "import genanki\n",
    "import csv\n",
    "import argparse\n",
    "import os\n",
    "import hashlib\n",
    "import time\n",
    "from pathlib import Path\n",
    "import logging\n",
    "\n",
    "from src.anki import read_file, make_deck, make_model, make_notes, make_package, read_package\n",
    "from src.media import add_images, add_phonetics, add_sounds\n",
    "from src.log_config import configure_logging\n",
    "\n",
    "configure_logging(ignore_libs=[\"PIL\", \"phonemizer\"])\n",
    "\n",
    "INPUT_DIR = Path(\"input/\")\n",
    "OUTPUT_DIR = Path(\"output/\")\n",
    "TEMPLATE_DIR = Path(\"template/\")\n",
    "MEDIA_DIR = Path(\"media/\")\n",
    "IMG_DIR = MEDIA_DIR / \"img\"\n",
    "AUDIO_DIR = MEDIA_DIR / \"sound\"\n",
    "for d in [INPUT_DIR, OUTPUT_DIR, TEMPLATE_DIR, MEDIA_DIR, IMG_DIR, AUDIO_DIR]:\n",
    "    d.mkdir(parents=True, exist_ok=True)\n",
    "\n",
    "\n",
    "superdeck_name = \"Français\"\n",
    "file_name = \"Les_nombres\"\n",
    "file_name = \"L'alphabet\"\n",
    "file_name = \"Cours_01\"\n",
    "file_name = \"Cours_01_QA\"\n",
    "file_name = \"Cours_02\"\n",
    "# file_name = \"Cours_03\"\n",
    "deck_name = superdeck_name + \"::\" + file_name\n",
    "file_type = \".md\"\n",
    "df_file = INPUT_DIR / (file_name + file_type)\n",
    "apkg_file = OUTPUT_DIR / (file_name + \".apkg\")\n",
    "style = TEMPLATE_DIR / \"style.css\"\n",
    "img_files, sound_files = [],[]\n"
   ]
  },
  {
   "cell_type": "code",
   "execution_count": 121,
   "metadata": {},
   "outputs": [
    {
     "name": "stderr",
     "output_type": "stream",
     "text": [
      "[22:30:03] [INFO] [media] - Added phonetics for 35 words.\n",
      "[22:30:03] [INFO] [media] - Added 35 images for 35 words.\n",
      "[22:30:03] [INFO] [anki] - Front-to-back and back-to-front cards will be created.\n",
      "[22:30:03] [INFO] [anki] - Created 35 notes out of 35 possible lines.\n"
     ]
    },
    {
     "data": {
      "text/html": [
       "<div>\n",
       "<style scoped>\n",
       "    .dataframe tbody tr th:only-of-type {\n",
       "        vertical-align: middle;\n",
       "    }\n",
       "\n",
       "    .dataframe tbody tr th {\n",
       "        vertical-align: top;\n",
       "    }\n",
       "\n",
       "    .dataframe thead th {\n",
       "        text-align: right;\n",
       "    }\n",
       "</style>\n",
       "<table border=\"1\" class=\"dataframe\">\n",
       "  <thead>\n",
       "    <tr style=\"text-align: right;\">\n",
       "      <th></th>\n",
       "      <th>Front</th>\n",
       "      <th>Back</th>\n",
       "      <th>Extra</th>\n",
       "      <th>More</th>\n",
       "      <th>Phonetics</th>\n",
       "      <th>Image</th>\n",
       "      <th>Audio</th>\n",
       "      <th>Reverse</th>\n",
       "    </tr>\n",
       "  </thead>\n",
       "  <tbody>\n",
       "    <tr>\n",
       "      <th>0</th>\n",
       "      <td>le jour</td>\n",
       "      <td>der Tag</td>\n",
       "      <td></td>\n",
       "      <td></td>\n",
       "      <td>/lə- ʒˈuʁ/</td>\n",
       "      <td>&lt;img src=\"img_badffde5fef4137a.png\"&gt;</td>\n",
       "      <td></td>\n",
       "      <td></td>\n",
       "    </tr>\n",
       "    <tr>\n",
       "      <th>1</th>\n",
       "      <td>la semaine</td>\n",
       "      <td>die Woche</td>\n",
       "      <td></td>\n",
       "      <td></td>\n",
       "      <td>/la- səmˈɛn/</td>\n",
       "      <td>&lt;img src=\"img_1387874aa21491e5.png\"&gt;</td>\n",
       "      <td></td>\n",
       "      <td></td>\n",
       "    </tr>\n",
       "    <tr>\n",
       "      <th>2</th>\n",
       "      <td>la semaine dernière</td>\n",
       "      <td>letzte Woche</td>\n",
       "      <td></td>\n",
       "      <td></td>\n",
       "      <td>/la- səmˈɛn dɛʁnjˈɛʁ/</td>\n",
       "      <td>&lt;img src=\"img_ff13f511caf0e865.png\"&gt;</td>\n",
       "      <td></td>\n",
       "      <td></td>\n",
       "    </tr>\n",
       "    <tr>\n",
       "      <th>3</th>\n",
       "      <td>fumer</td>\n",
       "      <td>rauchen</td>\n",
       "      <td></td>\n",
       "      <td></td>\n",
       "      <td>/fymˈe/</td>\n",
       "      <td>&lt;img src=\"img_3349713c4db68bab.png\"&gt;</td>\n",
       "      <td></td>\n",
       "      <td></td>\n",
       "    </tr>\n",
       "    <tr>\n",
       "      <th>4</th>\n",
       "      <td>un jeu de chance</td>\n",
       "      <td>ein Glückspiel</td>\n",
       "      <td></td>\n",
       "      <td></td>\n",
       "      <td>/œ̃ ʒˈø də- ʃˈɑ̃s/</td>\n",
       "      <td>&lt;img src=\"img_bb87177e976487c8.png\"&gt;</td>\n",
       "      <td></td>\n",
       "      <td></td>\n",
       "    </tr>\n",
       "  </tbody>\n",
       "</table>\n",
       "</div>"
      ],
      "text/plain": [
       "                 Front            Back Extra More              Phonetics  \\\n",
       "0              le jour         der Tag                        /lə- ʒˈuʁ/   \n",
       "1           la semaine       die Woche                      /la- səmˈɛn/   \n",
       "2  la semaine dernière    letzte Woche             /la- səmˈɛn dɛʁnjˈɛʁ/   \n",
       "3                fumer         rauchen                           /fymˈe/   \n",
       "4     un jeu de chance  ein Glückspiel                /œ̃ ʒˈø də- ʃˈɑ̃s/   \n",
       "\n",
       "                                  Image Audio Reverse  \n",
       "0  <img src=\"img_badffde5fef4137a.png\">                \n",
       "1  <img src=\"img_1387874aa21491e5.png\">                \n",
       "2  <img src=\"img_ff13f511caf0e865.png\">                \n",
       "3  <img src=\"img_3349713c4db68bab.png\">                \n",
       "4  <img src=\"img_bb87177e976487c8.png\">                "
      ]
     },
     "execution_count": 121,
     "metadata": {},
     "output_type": "execute_result"
    }
   ],
   "source": [
    "df = read_file(df_file)\n",
    "df = add_phonetics(df)\n",
    "df, img_files = add_images(df, IMG_DIR, force_replace=False)\n",
    "# df, sound_files = add_sounds(df, AUDIO_DIR, force_replace=False)\n",
    "media_files = img_files + sound_files\n",
    "deck = make_deck(df, deck_name)\n",
    "model = make_model(df, style)\n",
    "make_notes(deck, model, df)\n",
    "make_package(deck, media_files=img_files, apkg_file=apkg_file)\n",
    "df.head()"
   ]
  },
  {
   "cell_type": "code",
   "execution_count": 122,
   "metadata": {},
   "outputs": [],
   "source": [
    "import os\n",
    "from pathlib import Path\n",
    "from phonemizer.backend import EspeakBackend\n",
    "from phonemizer.backend.espeak.wrapper import EspeakWrapper\n",
    "# Set up espeak functio\n",
    "if os.uname().sysname == 'Darwin':\n",
    "    EspeakWrapper.set_library(Path(\"/opt/local/bin/espeak\")) # macports version\n",
    "\n",
    "language = \"fr-fr\"\n",
    "backend = EspeakBackend(language=language, with_stress=True, preserve_punctuation=True)\n",
    "phonemize_it = lambda x: f\"{backend.phonemize([str(x)], strip=True)[0]}\"\n",
    "# phonemize_it(\"quatre-vingts, quatre-vingt-un\")"
   ]
  },
  {
   "cell_type": "code",
   "execution_count": 123,
   "metadata": {},
   "outputs": [
    {
     "data": {
      "text/plain": [
       "'fˈɛʁ.\\nʒə- fˈɛ.\\nty fˈɛ.\\nˈil, ɛl fˈɛ.\\nnu fəzˈɔ̃.\\nvu fˈɛt.\\nˈil, ɛl fˈɔ̃.'"
      ]
     },
     "execution_count": 123,
     "metadata": {},
     "output_type": "execute_result"
    }
   ],
   "source": [
    "words = [\n",
    "    \"je m'appelle\",\n",
    "    \"tu t'appelles\",\n",
    "    \"il, elle s'appelle\",\n",
    "    \"nous nous appelons\",\n",
    "    \"vous vous appelez\",\n",
    "    \"ils, elles s'appellent\"\n",
    "]\n",
    "\n",
    "words = \"le pommé, les pommes\"\n",
    "words = \"\"\"le croissant, les croissants.\n",
    "la pomme, les pommes.\n",
    "l'enfant, les enfants.\"\"\"\n",
    "\n",
    "words = \"\"\"je suis.\n",
    "tu es.\n",
    "il, elle est.\n",
    "nous sommes.\n",
    "vous êtes.\n",
    "ils, elles sont.\"\"\"\n",
    "\n",
    "words = \"\"\"j'ai.\n",
    "tu as.\n",
    "il, elle a.\n",
    "nous avons.\n",
    "vous avez.\n",
    "ils, elles ont.\"\"\"\n",
    "\n",
    "words = \"\"\"faire.\n",
    "je fais.\n",
    "tu fais.\n",
    "il, elle fait.\n",
    "nous faisons.\n",
    "vous faites.\n",
    "ils, elles font.\"\"\"\n",
    "\n",
    "phonemize_it(words)\n"
   ]
  },
  {
   "cell_type": "code",
   "execution_count": 129,
   "metadata": {},
   "outputs": [],
   "source": [
    "def generate_unique_id(string):\n",
    "    \"\"\"Create a unique ID based on a string.\"\"\"\n",
    "    hash_object = hashlib.sha1(string.encode())\n",
    "    return int(hash_object.hexdigest(), 16) % (10 ** 10)\n",
    "\n",
    "def hash_str(input_str):\n",
    "    \"\"\"Generates a 16-character SHA-256 hash of the input string.\"\"\"\n",
    "    try:\n",
    "        encoded_string = input_str.encode()\n",
    "        sha256_hash = hashlib.sha256()\n",
    "        sha256_hash.update(encoded_string)\n",
    "        return sha256_hash.hexdigest()[:16]\n",
    "    except AttributeError:\n",
    "        raise ValueError(\"Input must be a string\")"
   ]
  },
  {
   "cell_type": "code",
   "execution_count": 130,
   "metadata": {},
   "outputs": [
    {
     "data": {
      "text/plain": [
       "(6440359920, '185f8db32271fe25')"
      ]
     },
     "execution_count": 130,
     "metadata": {},
     "output_type": "execute_result"
    }
   ],
   "source": [
    "generate_unique_id(\"Hello\"), hash_str(\"Hello\")"
   ]
  }
 ],
 "metadata": {
  "kernelspec": {
   "display_name": "anki",
   "language": "python",
   "name": "python3"
  },
  "language_info": {
   "codemirror_mode": {
    "name": "ipython",
    "version": 3
   },
   "file_extension": ".py",
   "mimetype": "text/x-python",
   "name": "python",
   "nbconvert_exporter": "python",
   "pygments_lexer": "ipython3",
   "version": "3.12.0"
  }
 },
 "nbformat": 4,
 "nbformat_minor": 2
}
