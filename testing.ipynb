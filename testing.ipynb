{
 "cells": [
  {
   "cell_type": "code",
   "execution_count": 24,
   "metadata": {},
   "outputs": [],
   "source": [
    "import genanki\n",
    "import csv\n",
    "import argparse\n",
    "import os\n",
    "import hashlib\n",
    "import time\n",
    "from pathlib import Path\n",
    "\n",
    "from src.anki import read_file, make_deck, make_model, make_note, make_package, read_package\n",
    "from src.media import add_images, add_phonetics\n",
    "\n",
    "\n",
    "INPUT_DIR = Path(\"input/\")\n",
    "OUTPUT_DIR = Path(\"output/\")\n",
    "TEMPLATE_DIR = Path(\"template/\")\n",
    "MEDIA_DIR = Path(\"media/\")\n",
    "IMG_DIR = MEDIA_DIR / \"img\"\n",
    "IMG_DIR.mkdir(parents=True, exist_ok=True)\n",
    "AUDIO_DIR = MEDIA_DIR / \"sound\"\n",
    "AUDIO_DIR.mkdir(parents=True, exist_ok=True)\n",
    "\n",
    "df_file = INPUT_DIR / \"Cours_01.md\"\n",
    "df = read_file(df_file)\n",
    "\n",
    "deck_name = df_file.name.rsplit(\".\", maxsplit=1)[-2]\n",
    "deck_path = OUTPUT_DIR / f\"{deck_name}.apkg\""
   ]
  },
  {
   "cell_type": "code",
   "execution_count": 25,
   "metadata": {},
   "outputs": [],
   "source": [
    "# import logging\n",
    "# logging.basicConfig(level=logging.INFO, force=True)\n",
    "import logging\n",
    "from src.log_config import configure_logging\n",
    "configure_logging(ignore_libs=[\"PIL\", \"phonemizer\"])"
   ]
  },
  {
   "cell_type": "code",
   "execution_count": 27,
   "metadata": {},
   "outputs": [
    {
     "name": "stderr",
     "output_type": "stream",
     "text": [
      "[15:37:48] [INFO] [media] - Added phonetics for 30 words.\n",
      "[15:37:48] [INFO] [media] - Added 30 images out of 30 words.\n"
     ]
    },
    {
     "data": {
      "text/html": [
       "<div>\n",
       "<style scoped>\n",
       "    .dataframe tbody tr th:only-of-type {\n",
       "        vertical-align: middle;\n",
       "    }\n",
       "\n",
       "    .dataframe tbody tr th {\n",
       "        vertical-align: top;\n",
       "    }\n",
       "\n",
       "    .dataframe thead th {\n",
       "        text-align: right;\n",
       "    }\n",
       "</style>\n",
       "<table border=\"1\" class=\"dataframe\">\n",
       "  <thead>\n",
       "    <tr style=\"text-align: right;\">\n",
       "      <th></th>\n",
       "      <th>Front</th>\n",
       "      <th>Back</th>\n",
       "      <th>Extra</th>\n",
       "      <th>More</th>\n",
       "      <th>Phonetics</th>\n",
       "      <th>Image</th>\n",
       "      <th>Audio</th>\n",
       "    </tr>\n",
       "  </thead>\n",
       "  <tbody>\n",
       "    <tr>\n",
       "      <th>0</th>\n",
       "      <td>la fenêtre</td>\n",
       "      <td>das Fenster</td>\n",
       "      <td></td>\n",
       "      <td></td>\n",
       "      <td>/la- fənˈɛtʁ/</td>\n",
       "      <td>&lt;img src=\"img_83d2b53e093c284e.png\"&gt;</td>\n",
       "      <td></td>\n",
       "    </tr>\n",
       "    <tr>\n",
       "      <th>1</th>\n",
       "      <td>Monsieur Macron</td>\n",
       "      <td>Herr Macron</td>\n",
       "      <td>(M. Macron)</td>\n",
       "      <td></td>\n",
       "      <td>/məsjˈø makʁˈɔ̃/</td>\n",
       "      <td>&lt;img src=\"img_c62070d054b986e3.png\"&gt;</td>\n",
       "      <td></td>\n",
       "    </tr>\n",
       "    <tr>\n",
       "      <th>2</th>\n",
       "      <td>Madame Borne</td>\n",
       "      <td>Frau Borne</td>\n",
       "      <td>(MMe Borne)</td>\n",
       "      <td></td>\n",
       "      <td>/madˈam bˈɔʁn/</td>\n",
       "      <td>&lt;img src=\"img_b2f6efc7954ab4d9.png\"&gt;</td>\n",
       "      <td></td>\n",
       "    </tr>\n",
       "    <tr>\n",
       "      <th>3</th>\n",
       "      <td>Mademoiselle Royal</td>\n",
       "      <td>Fräulein Royal</td>\n",
       "      <td>(Mlle), veraltet</td>\n",
       "      <td></td>\n",
       "      <td>/madmwazˈɛl ʁwajˈal/</td>\n",
       "      <td>&lt;img src=\"img_f1d7641526353934.png\"&gt;</td>\n",
       "      <td></td>\n",
       "    </tr>\n",
       "    <tr>\n",
       "      <th>4</th>\n",
       "      <td>l'amour</td>\n",
       "      <td>die Liebe</td>\n",
       "      <td></td>\n",
       "      <td></td>\n",
       "      <td>/lamˈuʁ/</td>\n",
       "      <td>&lt;img src=\"img_93139178e53667ab.png\"&gt;</td>\n",
       "      <td></td>\n",
       "    </tr>\n",
       "  </tbody>\n",
       "</table>\n",
       "</div>"
      ],
      "text/plain": [
       "                Front            Back             Extra More  \\\n",
       "0          la fenêtre     das Fenster                          \n",
       "1     Monsieur Macron     Herr Macron       (M. Macron)        \n",
       "2        Madame Borne      Frau Borne       (MMe Borne)        \n",
       "3  Mademoiselle Royal  Fräulein Royal  (Mlle), veraltet        \n",
       "4             l'amour       die Liebe                          \n",
       "\n",
       "              Phonetics                                 Image Audio  \n",
       "0         /la- fənˈɛtʁ/  <img src=\"img_83d2b53e093c284e.png\">        \n",
       "1      /məsjˈø makʁˈɔ̃/  <img src=\"img_c62070d054b986e3.png\">        \n",
       "2        /madˈam bˈɔʁn/  <img src=\"img_b2f6efc7954ab4d9.png\">        \n",
       "3  /madmwazˈɛl ʁwajˈal/  <img src=\"img_f1d7641526353934.png\">        \n",
       "4              /lamˈuʁ/  <img src=\"img_93139178e53667ab.png\">        "
      ]
     },
     "execution_count": 27,
     "metadata": {},
     "output_type": "execute_result"
    }
   ],
   "source": [
    "df = add_phonetics(df)\n",
    "df, media_files = add_images(df, IMG_DIR)\n",
    "df.head()"
   ]
  },
  {
   "cell_type": "code",
   "execution_count": 28,
   "metadata": {},
   "outputs": [
    {
     "name": "stderr",
     "output_type": "stream",
     "text": [
      "[15:37:48] [INFO] [root] - Created 30 cards out of 30 possible lines.\n"
     ]
    }
   ],
   "source": [
    "style = TEMPLATE_DIR / \"style.css\"\n",
    "\n",
    "deck = make_deck(deck_name)\n",
    "model = make_model(deck_name, df.columns, style)\n",
    "successful_cards, total_rows = make_note(deck, model, df)\n",
    "make_package(deck, media_files=media_files, output_dir=OUTPUT_DIR)\n",
    "\n",
    "logging.info(f\"Created {successful_cards} cards out of {total_rows} possible lines.\")"
   ]
  },
  {
   "cell_type": "code",
   "execution_count": 29,
   "metadata": {},
   "outputs": [
    {
     "data": {
      "text/plain": [
       "Collection(models={5550339091: Model(name='Basic (opt. reversed)', field_names=['Front', 'Back', 'Extra', 'More', 'Phonetics', 'Image', 'Audio'])}, notes=[Note(model=Model(name='Basic (opt. reversed)', field_names=['Front', 'Back', 'Extra', 'More', 'Phonetics', 'Image', 'Audio']), field_contents=['la fenêtre', 'das Fenster', '', '', '/la- fənˈɛtʁ/', '<img src=\"img_83d2b53e093c284e.png\">', ''], tags=set()), Note(model=Model(name='Basic (opt. reversed)', field_names=['Front', 'Back', 'Extra', 'More', 'Phonetics', 'Image', 'Audio']), field_contents=['Monsieur Macron', 'Herr Macron', '(M. Macron)', '', '/məsjˈø makʁˈɔ̃/', '<img src=\"img_c62070d054b986e3.png\">', ''], tags=set()), Note(model=Model(name='Basic (opt. reversed)', field_names=['Front', 'Back', 'Extra', 'More', 'Phonetics', 'Image', 'Audio']), field_contents=['Madame Borne', 'Frau Borne', '(MMe Borne)', '', '/madˈam bˈɔʁn/', '<img src=\"img_b2f6efc7954ab4d9.png\">', ''], tags=set()), Note(model=Model(name='Basic (opt. reversed)', field_names=['Front', 'Back', 'Extra', 'More', 'Phonetics', 'Image', 'Audio']), field_contents=['Mademoiselle Royal', 'Fräulein Royal', '(Mlle), veraltet', '', '/madmwazˈɛl ʁwajˈal/', '<img src=\"img_f1d7641526353934.png\">', ''], tags=set()), Note(model=Model(name='Basic (opt. reversed)', field_names=['Front', 'Back', 'Extra', 'More', 'Phonetics', 'Image', 'Audio']), field_contents=[\"l'amour\", 'die Liebe', '', '', '/lamˈuʁ/', '<img src=\"img_93139178e53667ab.png\">', ''], tags=set()), Note(model=Model(name='Basic (opt. reversed)', field_names=['Front', 'Back', 'Extra', 'More', 'Phonetics', 'Image', 'Audio']), field_contents=[\"l'hypocrisie\", 'die Heuchelei', '', '', '/lipɔkʁizˈi/', '<img src=\"img_2a8d47858ecc5761.png\">', ''], tags=set()), Note(model=Model(name='Basic (opt. reversed)', field_names=['Front', 'Back', 'Extra', 'More', 'Phonetics', 'Image', 'Audio']), field_contents=['bienvenue', 'Willkommen', '', '', '/bjɛ̃vnˈy/', '<img src=\"img_403bb5c89a7e3f69.png\">', ''], tags=set()), Note(model=Model(name='Basic (opt. reversed)', field_names=['Front', 'Back', 'Extra', 'More', 'Phonetics', 'Image', 'Audio']), field_contents=['le cœur', 'das Herz', '', '', '/lə- kˈœʁ/', '<img src=\"img_2952c3e24d6fe2b1.png\">', ''], tags=set()), Note(model=Model(name='Basic (opt. reversed)', field_names=['Front', 'Back', 'Extra', 'More', 'Phonetics', 'Image', 'Audio']), field_contents=['la réalité', 'die Realität', '', '', '/la- ʁealitˈe/', '<img src=\"img_22fde4dbca4926e1.png\">', ''], tags=set()), Note(model=Model(name='Basic (opt. reversed)', field_names=['Front', 'Back', 'Extra', 'More', 'Phonetics', 'Image', 'Audio']), field_contents=['le cliché', 'das Cliché', '', '', '/lə- kliʃˈe/', '<img src=\"img_821ced5b90e053eb.png\">', ''], tags=set()), Note(model=Model(name='Basic (opt. reversed)', field_names=['Front', 'Back', 'Extra', 'More', 'Phonetics', 'Image', 'Audio']), field_contents=['la liberté', 'die Freiheit', '', '', '/la- libɛʁtˈe/', '<img src=\"img_0b8e493756c650c7.png\">', ''], tags=set()), Note(model=Model(name='Basic (opt. reversed)', field_names=['Front', 'Back', 'Extra', 'More', 'Phonetics', 'Image', 'Audio']), field_contents=[\"l'argent\", 'das Geld', '', '', '/laʁʒˈɑ̃/', '<img src=\"img_51cfe64dcd0716ef.png\">', ''], tags=set()), Note(model=Model(name='Basic (opt. reversed)', field_names=['Front', 'Back', 'Extra', 'More', 'Phonetics', 'Image', 'Audio']), field_contents=['le colocataire / le coloc', 'der Mitbewohner', '', '', '/lə- kolokatˈɛʁ lə- kolˈɔk/', '<img src=\"img_ad60bd3bbe77c2ab.png\">', ''], tags=set()), Note(model=Model(name='Basic (opt. reversed)', field_names=['Front', 'Back', 'Extra', 'More', 'Phonetics', 'Image', 'Audio']), field_contents=['la famille', 'die Familie', '', '', '/la- famˈij/', '<img src=\"img_68ae0daa3af28a9d.png\">', ''], tags=set()), Note(model=Model(name='Basic (opt. reversed)', field_names=['Front', 'Back', 'Extra', 'More', 'Phonetics', 'Image', 'Audio']), field_contents=['aller', 'gehen', '', '', '/alˈe/', '<img src=\"img_b25974fb8efd13e9.png\">', ''], tags=set()), Note(model=Model(name='Basic (opt. reversed)', field_names=['Front', 'Back', 'Extra', 'More', 'Phonetics', 'Image', 'Audio']), field_contents=['la pomme', 'der Apfel', '', '', '/la- pˈɔm/', '<img src=\"img_736062eae299da18.png\">', ''], tags=set()), Note(model=Model(name='Basic (opt. reversed)', field_names=['Front', 'Back', 'Extra', 'More', 'Phonetics', 'Image', 'Audio']), field_contents=[\"l'animal domestique\", 'das Haustier', '', '', '/lanimˈal domɛstˈik/', '<img src=\"img_4cd8bcdae651687d.png\">', ''], tags=set()), Note(model=Model(name='Basic (opt. reversed)', field_names=['Front', 'Back', 'Extra', 'More', 'Phonetics', 'Image', 'Audio']), field_contents=['le marché de Noël', 'der Weihnachtsmarkt', '', '', '/lə- maʁʃˈe də- nɔˈɛl/', '<img src=\"img_bc7f86adfb9809fe.png\">', ''], tags=set()), Note(model=Model(name='Basic (opt. reversed)', field_names=['Front', 'Back', 'Extra', 'More', 'Phonetics', 'Image', 'Audio']), field_contents=['le nuage', 'die Wolke', '', '', '/lə- nyˈaʒ/', '<img src=\"img_ebe347b1854a11a1.png\">', ''], tags=set()), Note(model=Model(name='Basic (opt. reversed)', field_names=['Front', 'Back', 'Extra', 'More', 'Phonetics', 'Image', 'Audio']), field_contents=['le chat', 'die Katze', '', '', '/lə- ʃˈa/', '<img src=\"img_d6a9b2442bec3512.png\">', ''], tags=set()), Note(model=Model(name='Basic (opt. reversed)', field_names=['Front', 'Back', 'Extra', 'More', 'Phonetics', 'Image', 'Audio']), field_contents=['le fromage', 'der Käse', '', '', '/lə- fʁomˈaʒ/', '<img src=\"img_d69d73f3eb8a551c.png\">', ''], tags=set()), Note(model=Model(name='Basic (opt. reversed)', field_names=['Front', 'Back', 'Extra', 'More', 'Phonetics', 'Image', 'Audio']), field_contents=['Je ne comprends pas', 'Ich verstehe nicht', '', '', '/ʒə- nə- kɔ̃pʁˈɑ̃ pˈa/', '<img src=\"img_9f49afc6f6bf0099.png\">', ''], tags=set()), Note(model=Model(name='Basic (opt. reversed)', field_names=['Front', 'Back', 'Extra', 'More', 'Phonetics', 'Image', 'Audio']), field_contents=[\"Je n'ai pas compris\", 'Ich habe nicht verstanden', '', '', '/ʒə- ne pa kɔ̃pʁˈi/', '<img src=\"img_3ad985491530967d.png\">', ''], tags=set()), Note(model=Model(name='Basic (opt. reversed)', field_names=['Front', 'Back', 'Extra', 'More', 'Phonetics', 'Image', 'Audio']), field_contents=['Je ne sais pas', 'Ich weiß nicht', '', '', '/ʒə- nə- sˈɛ pˈa/', '<img src=\"img_2fa28673e50805d9.png\">', ''], tags=set()), Note(model=Model(name='Basic (opt. reversed)', field_names=['Front', 'Back', 'Extra', 'More', 'Phonetics', 'Image', 'Audio']), field_contents=[\"Répétez, s'il vous plaît\", 'Wiederholen Sie, bitte!', '', '', '/ʁepetˈe, sil vu plˈɛ/', '<img src=\"img_d1466ab3162dcb59.png\">', ''], tags=set()), Note(model=Model(name='Basic (opt. reversed)', field_names=['Front', 'Back', 'Extra', 'More', 'Phonetics', 'Image', 'Audio']), field_contents=[\"Répète, s'il te plaît\", 'Wiederhole, bitte!', '', '', '/ʁepˈɛt, sil tə- plˈɛ/', '<img src=\"img_fd6d4a56f7ae125f.png\">', ''], tags=set()), Note(model=Model(name='Basic (opt. reversed)', field_names=['Front', 'Back', 'Extra', 'More', 'Phonetics', 'Image', 'Audio']), field_contents=['minuscule', 'kleiner Buchstabe', '', '', '/minyskˈyl/', '<img src=\"img_91c032683b0598f6.png\">', ''], tags=set()), Note(model=Model(name='Basic (opt. reversed)', field_names=['Front', 'Back', 'Extra', 'More', 'Phonetics', 'Image', 'Audio']), field_contents=['majuscule', 'großer Buchstabe', '', '', '/maʒyskˈyl/', '<img src=\"img_7f5f91b179657189.png\">', ''], tags=set()), Note(model=Model(name='Basic (opt. reversed)', field_names=['Front', 'Back', 'Extra', 'More', 'Phonetics', 'Image', 'Audio']), field_contents=[\"J'ai 22 ans\", 'Ich bin 22 Jahre alt', '', '', '/ʒe vɛ̃tdˈøz ˈɑ̃/', '<img src=\"img_3fc2ff256be83320.png\">', ''], tags=set()), Note(model=Model(name='Basic (opt. reversed)', field_names=['Front', 'Back', 'Extra', 'More', 'Phonetics', 'Image', 'Audio']), field_contents=[\"un centime (d'euro)\", 'ein (Euro-)Cent', '', '', '/œ̃ sɑ̃tˈim døʁˈo/', '<img src=\"img_3f5a3b205d6afd51.png\">', ''], tags=set())])"
      ]
     },
     "execution_count": 29,
     "metadata": {},
     "output_type": "execute_result"
    }
   ],
   "source": [
    "read_package(OUTPUT_DIR / f\"{deck_name}.apkg\")"
   ]
  },
  {
   "cell_type": "code",
   "execution_count": 30,
   "metadata": {},
   "outputs": [],
   "source": [
    "def main():\n",
    "    parser = argparse.ArgumentParser(description='Create Anki decks from CSV or simple Markdown files.')\n",
    "    parser.add_argument('file', help='File to import (CSV or Markdown). The file must have a header row that defines the fields for the Anki cards.')\n",
    "    parser.add_argument('--deck-name', default=None, help='Optional: Custom name for the Anki deck. If not provided, the deck name is derived from the file name.')\n",
    "    parser.add_argument('--package-name', default=None, help='Optional: Custom name for the Anki package file (without .apkg extension). If not provided, the package name is the same as the deck name.')\n",
    "\n",
    "    args = parser.parse_args()\n",
    "\n",
    "    file_name = args.file\n",
    "    deck_name = args.deck_name if args.deck_name else os.path.splitext(os.path.basename(file_name))[0]\n",
    "    package_name = args.package_name if args.package_name else deck_name + '.apkg'\n",
    "\n",
    "    if not os.path.exists(file_name):\n",
    "        print(f\"Error: The file {file_name} does not exist.\")\n",
    "        return\n",
    "\n",
    "    try:\n",
    "        file_data = read_file(file_name)\n",
    "    except ValueError as e:\n",
    "        print(e)\n",
    "        return\n",
    "    \n",
    "\n",
    "    "
   ]
  }
 ],
 "metadata": {
  "kernelspec": {
   "display_name": "anki",
   "language": "python",
   "name": "python3"
  },
  "language_info": {
   "codemirror_mode": {
    "name": "ipython",
    "version": 3
   },
   "file_extension": ".py",
   "mimetype": "text/x-python",
   "name": "python",
   "nbconvert_exporter": "python",
   "pygments_lexer": "ipython3",
   "version": "3.12.0"
  }
 },
 "nbformat": 4,
 "nbformat_minor": 2
}
