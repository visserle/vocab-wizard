{
 "cells": [
  {
   "cell_type": "code",
   "execution_count": 16,
   "metadata": {},
   "outputs": [],
   "source": [
    "import genanki\n",
    "import csv\n",
    "import argparse\n",
    "import os\n",
    "import hashlib\n",
    "import time\n",
    "from pathlib import Path\n",
    "import logging\n",
    "\n",
    "from src.anki import read_file, make_deck, make_model, make_note, make_package, read_package\n",
    "from src.media import add_images, add_phonetics\n",
    "from src.log_config import configure_logging\n",
    "\n",
    "configure_logging(ignore_libs=[\"PIL\", \"phonemizer\"])\n",
    "\n",
    "INPUT_DIR = Path(\"input/\")\n",
    "OUTPUT_DIR = Path(\"output/\")\n",
    "TEMPLATE_DIR = Path(\"template/\")\n",
    "MEDIA_DIR = Path(\"media/\")\n",
    "IMG_DIR = MEDIA_DIR / \"img\"\n",
    "AUDIO_DIR = MEDIA_DIR / \"sound\"\n",
    "for d in [INPUT_DIR, OUTPUT_DIR, TEMPLATE_DIR, MEDIA_DIR, IMG_DIR, AUDIO_DIR]:\n",
    "    d.mkdir(parents=True, exist_ok=True)\n",
    "\n",
    "\n",
    "file_name = \"Le_nombres\"\n",
    "file_name = \"Cours_01\"\n",
    "file_name = \"Cours_01_QA\"\n",
    "\n",
    "file_type = \".md\"\n",
    "df_file = INPUT_DIR / (file_name + file_type)\n",
    "apkg_file = OUTPUT_DIR / (file_name + \".apkg\")\n",
    "style = TEMPLATE_DIR / \"style.css\"\n",
    "img_files, sound_files = [],[]\n"
   ]
  },
  {
   "cell_type": "code",
   "execution_count": 17,
   "metadata": {},
   "outputs": [
    {
     "name": "stderr",
     "output_type": "stream",
     "text": [
      "[23:57:54] [INFO] [media] - Added phonetics for 33 words.\n",
      "[23:57:54] [INFO] [anki] - Front-to-back and back-to-front cards will be created.\n",
      "[23:57:54] [INFO] [root] - Created 33 cards out of 33 possible lines.\n"
     ]
    },
    {
     "data": {
      "text/html": [
       "<div>\n",
       "<style scoped>\n",
       "    .dataframe tbody tr th:only-of-type {\n",
       "        vertical-align: middle;\n",
       "    }\n",
       "\n",
       "    .dataframe tbody tr th {\n",
       "        vertical-align: top;\n",
       "    }\n",
       "\n",
       "    .dataframe thead th {\n",
       "        text-align: right;\n",
       "    }\n",
       "</style>\n",
       "<table border=\"1\" class=\"dataframe\">\n",
       "  <thead>\n",
       "    <tr style=\"text-align: right;\">\n",
       "      <th></th>\n",
       "      <th>Front</th>\n",
       "      <th>Back</th>\n",
       "      <th>Extra</th>\n",
       "      <th>More</th>\n",
       "      <th>Phonetics</th>\n",
       "      <th>Audio</th>\n",
       "      <th>Reverse</th>\n",
       "    </tr>\n",
       "  </thead>\n",
       "  <tbody>\n",
       "    <tr>\n",
       "      <th>0</th>\n",
       "      <td>zéro</td>\n",
       "      <td>0</td>\n",
       "      <td></td>\n",
       "      <td></td>\n",
       "      <td>/zeʁˈo/</td>\n",
       "      <td></td>\n",
       "      <td></td>\n",
       "    </tr>\n",
       "    <tr>\n",
       "      <th>1</th>\n",
       "      <td>un</td>\n",
       "      <td>1</td>\n",
       "      <td></td>\n",
       "      <td></td>\n",
       "      <td>/ˈœ̃/</td>\n",
       "      <td></td>\n",
       "      <td></td>\n",
       "    </tr>\n",
       "    <tr>\n",
       "      <th>2</th>\n",
       "      <td>deux</td>\n",
       "      <td>2</td>\n",
       "      <td></td>\n",
       "      <td></td>\n",
       "      <td>/dˈø/</td>\n",
       "      <td></td>\n",
       "      <td></td>\n",
       "    </tr>\n",
       "    <tr>\n",
       "      <th>3</th>\n",
       "      <td>trois</td>\n",
       "      <td>3</td>\n",
       "      <td></td>\n",
       "      <td></td>\n",
       "      <td>/tʁwˈa/</td>\n",
       "      <td></td>\n",
       "      <td></td>\n",
       "    </tr>\n",
       "    <tr>\n",
       "      <th>4</th>\n",
       "      <td>quatre</td>\n",
       "      <td>4</td>\n",
       "      <td></td>\n",
       "      <td></td>\n",
       "      <td>/kˈatʁ/</td>\n",
       "      <td></td>\n",
       "      <td></td>\n",
       "    </tr>\n",
       "  </tbody>\n",
       "</table>\n",
       "</div>"
      ],
      "text/plain": [
       "    Front  Back Extra More Phonetics Audio Reverse\n",
       "0    zéro     0              /zeʁˈo/              \n",
       "1      un     1                /ˈœ̃/              \n",
       "2    deux     2                /dˈø/              \n",
       "3   trois     3              /tʁwˈa/              \n",
       "4  quatre     4              /kˈatʁ/              "
      ]
     },
     "execution_count": 17,
     "metadata": {},
     "output_type": "execute_result"
    }
   ],
   "source": [
    "df = read_file(df_file)\n",
    "df = add_phonetics(df)\n",
    "df, img_files = add_images(df, IMG_DIR, force_replace=False)\n",
    "deck = make_deck(df)\n",
    "model = make_model(df, style)\n",
    "successful_cards, total_rows = make_note(deck, model, df)\n",
    "media_files = img_files + sound_files\n",
    "make_package(deck, media_files=img_files, apkg_file=apkg_file)\n",
    "logging.info(f\"Created {successful_cards} cards out of {total_rows} possible lines.\")\n",
    "df.head()"
   ]
  },
  {
   "cell_type": "code",
   "execution_count": 18,
   "metadata": {},
   "outputs": [
    {
     "data": {
      "text/plain": [
       "'<div class=\"front\">{{Front}}</div>'"
      ]
     },
     "execution_count": 18,
     "metadata": {},
     "output_type": "execute_result"
    }
   ],
   "source": [
    "def _field(field_name):\n",
    "    # in a f-string, a single '{' is escaped by doubling it\n",
    "    return (f'{{{{{field_name}}}}}' if field_name in df.columns else '')\n",
    "\n",
    "def _div(field_name):\n",
    "    return (f'<div class=\"{field_name.lower()}\">{_field(field_name)}</div>' if field_name in df.columns else '')\n",
    "\n",
    "_div(\"Front\")"
   ]
  }
 ],
 "metadata": {
  "kernelspec": {
   "display_name": "anki",
   "language": "python",
   "name": "python3"
  },
  "language_info": {
   "codemirror_mode": {
    "name": "ipython",
    "version": 3
   },
   "file_extension": ".py",
   "mimetype": "text/x-python",
   "name": "python",
   "nbconvert_exporter": "python",
   "pygments_lexer": "ipython3",
   "version": "3.12.0"
  }
 },
 "nbformat": 4,
 "nbformat_minor": 2
}
